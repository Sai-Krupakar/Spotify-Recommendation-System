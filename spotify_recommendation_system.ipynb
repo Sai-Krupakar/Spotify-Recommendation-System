{
 "cells": [
  {
   "cell_type": "markdown",
   "id": "4e4bee7e",
   "metadata": {
    "id": "4e4bee7e"
   },
   "source": [
    "#                                      Spotify Recommendation"
   ]
  },
  {
   "cell_type": "code",
   "execution_count": null,
   "id": "fc8cba6e",
   "metadata": {
    "id": "93c2d4ab"
   },
   "outputs": [],
   "source": [
    "import pandas as pd\n",
    "import csv\n",
    "import statistics\n",
    "from sklearn import preprocessing\n",
    "from sklearn.preprocessing import StandardScaler"
   ]
  },
  {
   "cell_type": "markdown",
   "id": "3a634f89",
   "metadata": {},
   "source": [
    "### Reading the data file ##\n",
    "Here we are reading the data.csv file and storing this data in \"values\""
   ]
  },
  {
   "cell_type": "code",
   "execution_count": 2,
   "id": "0d149799",
   "metadata": {
    "colab": {
     "base_uri": "https://localhost:8080/"
    },
    "id": "0d149799",
    "outputId": "6fb06587-ab06-4b55-ae31-efd807d3c857"
   },
   "outputs": [
    {
     "name": "stdout",
     "output_type": "stream",
     "text": [
      "        valence  acousticness  danceability  duration_ms  energy  \\\n",
      "0         0.814       0.61100         0.389        99373   0.910   \n",
      "1         0.816       0.24600         0.590       137373   0.737   \n",
      "2         0.368       0.95200         0.663       170267   0.131   \n",
      "3         0.227       0.70300         0.240       152427   0.326   \n",
      "4         0.390       0.95000         0.331        82625   0.225   \n",
      "...         ...           ...           ...          ...     ...   \n",
      "232720    0.962       0.00384         0.687       326240   0.714   \n",
      "232721    0.969       0.03290         0.785       282447   0.683   \n",
      "232722    0.813       0.90100         0.517       166960   0.419   \n",
      "232723    0.489       0.26200         0.745       222442   0.704   \n",
      "232724    0.479       0.09730         0.758       323027   0.470   \n",
      "\n",
      "        instrumentalness  liveness  loudness  popularity  speechiness    tempo  \n",
      "0               0.000000    0.3460    -1.828           0       0.0525  166.969  \n",
      "1               0.000000    0.1510    -5.559           1       0.0868  174.003  \n",
      "2               0.000000    0.1030   -13.879           3       0.0362   99.488  \n",
      "3               0.000000    0.0985   -12.178           0       0.0395  171.758  \n",
      "4               0.123000    0.2020   -21.150           4       0.0456  140.576  \n",
      "...                  ...       ...       ...         ...          ...      ...  \n",
      "232720          0.544000    0.0845   -10.626          39       0.0316  115.542  \n",
      "232721          0.000880    0.2370    -6.944          38       0.0337  113.830  \n",
      "232722          0.000000    0.0945    -8.282          47       0.1480   84.135  \n",
      "232723          0.000000    0.3330    -7.137          44       0.1460  100.031  \n",
      "232724          0.000049    0.0836    -6.708          35       0.0287  113.897  \n",
      "\n",
      "[232725 rows x 11 columns]\n",
      "(232725, 11)\n",
      "<class 'pandas.core.frame.DataFrame'>\n",
      "<class 'numpy.ndarray'>\n",
      "[[8.14000e-01 6.11000e-01 3.89000e-01 ... 0.00000e+00 5.25000e-02\n",
      "  1.66969e+02]\n",
      " [8.16000e-01 2.46000e-01 5.90000e-01 ... 1.00000e+00 8.68000e-02\n",
      "  1.74003e+02]\n",
      " [3.68000e-01 9.52000e-01 6.63000e-01 ... 3.00000e+00 3.62000e-02\n",
      "  9.94880e+01]\n",
      " ...\n",
      " [8.13000e-01 9.01000e-01 5.17000e-01 ... 4.70000e+01 1.48000e-01\n",
      "  8.41350e+01]\n",
      " [4.89000e-01 2.62000e-01 7.45000e-01 ... 4.40000e+01 1.46000e-01\n",
      "  1.00031e+02]\n",
      " [4.79000e-01 9.73000e-02 7.58000e-01 ... 3.50000e+01 2.87000e-02\n",
      "  1.13897e+02]]\n",
      "(232725, 11)\n"
     ]
    }
   ],
   "source": [
    "data = pd.read_csv(\"SpotifyFeatures.csv\")\n",
    "features_names = ['valence','acousticness','danceability','duration_ms','energy','instrumentalness','liveness','loudness','popularity','speechiness','tempo']\n",
    "values = data[features_names]\n",
    "print(values)\n",
    "\n",
    "print(np.shape(values))\n",
    "print(type(values))\n",
    "values=np.array(values)\n",
    "print(type(values))\n",
    "print(values)\n",
    "print(np.shape(values))"
   ]
  },
  {
   "cell_type": "markdown",
   "id": "52c5c6f8",
   "metadata": {},
   "source": [
    "### Normalizing the data\n",
    "To perform clustering we are normalizing the data and storing the normalized vectors in \"features\""
   ]
  },
  {
   "cell_type": "code",
   "execution_count": 3,
   "id": "GvCRNuiRDMML",
   "metadata": {
    "colab": {
     "base_uri": "https://localhost:8080/"
    },
    "id": "GvCRNuiRDMML",
    "outputId": "af7de70b-e9aa-4cd1-caa5-182a9ce29680"
   },
   "outputs": [
    {
     "name": "stdout",
     "output_type": "stream",
     "text": [
      "[-0.37266408  1.16820117  0.28897236  1.98581883  1.0705522  -0.48981852\n",
      "  3.78263252 -0.29627511 -1.05154473  4.44288639 -0.72176123]\n",
      "[[ 1.38074423  0.6833763  -0.89093479 ... -2.26100656 -0.36796995\n",
      "   1.5956073 ]\n",
      " [ 1.38843461 -0.34546718  0.19199369 ... -2.20603102 -0.18308213\n",
      "   1.82325339]\n",
      " [-0.33421214  1.6445698   0.58529607 ... -2.09607995 -0.45583209\n",
      "  -0.5883258 ]\n",
      " ...\n",
      " [ 1.37689903  1.50081358 -0.20130869 ...  0.32284371  0.14680516\n",
      "  -1.08520529]\n",
      " [ 0.13105629 -0.30036719  1.02708778 ...  0.1579171   0.13602453\n",
      "  -0.57075233]\n",
      " [ 0.09260435 -0.7646152   1.09712793 ... -0.33686274 -0.49625945\n",
      "  -0.12199762]]\n"
     ]
    }
   ],
   "source": [
    "features = StandardScaler().fit_transform(values)\n",
    "print(features[170652])\n",
    "print(features)"
   ]
  },
  {
   "cell_type": "markdown",
   "id": "e0d0b39d",
   "metadata": {},
   "source": [
    "### Actual Labels\n",
    "Assigning actual labels based on genre"
   ]
  },
  {
   "cell_type": "code",
   "execution_count": 4,
   "id": "HwMu16_VDW97",
   "metadata": {
    "colab": {
     "base_uri": "https://localhost:8080/"
    },
    "id": "HwMu16_VDW97",
    "outputId": "b4b6d643-0116-4bf7-a7a9-f41287b821bd"
   },
   "outputs": [
    {
     "name": "stdout",
     "output_type": "stream",
     "text": [
      "0         Movie\n",
      "1         Movie\n",
      "2         Movie\n",
      "3         Movie\n",
      "4         Movie\n",
      "          ...  \n",
      "232720     Soul\n",
      "232721     Soul\n",
      "232722     Soul\n",
      "232723     Soul\n",
      "232724     Soul\n",
      "Name: genre, Length: 232725, dtype: object\n",
      "232725\n",
      "27\n"
     ]
    }
   ],
   "source": [
    "genres = data['genre']\n",
    "distinct_genres = np.unique(genres)\n",
    "print(genres)\n",
    "actual_lab = []\n",
    "for i in range(len(features)):\n",
    "  for j in range(len(distinct_genres)):\n",
    "     if genres[i] == distinct_genres[j]:\n",
    "       actual_lab.append(j)\n",
    "       break\n",
    "print(len(actual_lab))\n",
    "print(len(distinct_genres))"
   ]
  },
  {
   "cell_type": "markdown",
   "id": "ff92faa6",
   "metadata": {
    "id": "ff92faa6"
   },
   "source": [
    "# K-means Clustering"
   ]
  },
  {
   "cell_type": "markdown",
   "id": "7d13423f",
   "metadata": {},
   "source": [
    "Objective function (to be minimized):\n",
    "$$Error(\\mu)=\\frac{1}{N}\\sum_{i=1}^{K}\\sum_{j \\in i^{th} cluster}||C_{i}-X_{j}||_{2}$$\n",
    "\n",
    "We plotted the graph \"Objective function vs k\""
   ]
  },
  {
   "cell_type": "code",
   "execution_count": 5,
   "id": "8b3f525f",
   "metadata": {
    "colab": {
     "base_uri": "https://localhost:8080/",
     "height": 276
    },
    "id": "8b3f525f",
    "outputId": "12e13f94-d77c-4bca-a2bb-78099731d43a"
   },
   "outputs": [
    {
     "data": {
      "image/png": "[encoded data removed]",
      "text/plain": [
       "<Figure size 432x288 with 1 Axes>"
      ]
     },
     "metadata": {
      "needs_background": "light"
     },
     "output_type": "display_data"
    }
   ],
   "source": [
    "from sklearn.cluster import KMeans\n",
    "import matplotlib.pyplot as plt\n",
    "sse = {}\n",
    "for k in range(1,10):\n",
    " kmeans = KMeans(n_clusters=k)\n",
    " kmeans.fit(features)\n",
    " sse[k] = kmeans.inertia_\n",
    "plt.plot(list(sse.keys()), list(sse.values()))\n",
    "plt.show()"
   ]
  },
  {
   "cell_type": "markdown",
   "id": "926ad913",
   "metadata": {},
   "source": [
    "### 3-D Scatter Plot\n",
    "\n",
    "Plotting the 3-D graph between 2 feature vectors and kmeans labels"
   ]
  },
  {
   "cell_type": "code",
   "execution_count": null,
   "id": "96332aae",
   "metadata": {
    "id": "96332aae"
   },
   "outputs": [],
   "source": [
    "fig = plt.figure(figsize = (10, 7))\n",
    "ax = plt.axes(projection =\"3d\")\n",
    "ax.scatter3D(features[:,0],features[:,1],kmeans.labels_,c=kmeans.labels_,s = 0.1)\n",
    "plt.title(\"simple 3D scatter plot\")\n",
    "plt.show()\n",
    "print(kmeans.labels_[1])\n",
    "print(kmeans.labels_[17700])"
   ]
  },
  {
   "cell_type": "markdown",
   "id": "20465f2a",
   "metadata": {},
   "source": [
    "### Computation of Homogeneity Score "
   ]
  },
  {
   "cell_type": "code",
   "execution_count": null,
   "id": "2X1tqgt4D0EQ",
   "metadata": {
    "id": "2X1tqgt4D0EQ"
   },
   "outputs": [],
   "source": [
    "from sklearn.metrics.cluster import homogeneity_score"
   ]
  },
  {
   "cell_type": "code",
   "execution_count": null,
   "id": "nTLcLfUWD03_",
   "metadata": {
    "id": "nTLcLfUWD03_"
   },
   "outputs": [],
   "source": [
    "range_n_clusters = [x for x in range(30,35)]\n",
    "homogeneity_avg = []\n",
    "for num_clusters in range_n_clusters:\n",
    " \n",
    " # initialise kmeans\n",
    " kmeans = KMeans(n_clusters=num_clusters)\n",
    " kmeans.fit(features)\n",
    " cluster_labels = kmeans.predict(features)\n",
    " \n",
    " # homogeneity score\n",
    " homogeneity_avg.append(homogeneity_score(actual_lab, cluster_labels))"
   ]
  },
  {
   "cell_type": "code",
   "execution_count": null,
   "id": "DZ8SBnT2ESi9",
   "metadata": {
    "id": "DZ8SBnT2ESi9"
   },
   "outputs": [],
   "source": [
    "import matplotlib.pyplot as plt\n",
    "plt.plot(range_n_clusters,homogeneity_avg,'bx-')\n",
    "plt.xlabel('Values of K') \n",
    "plt.ylabel('Homogeneity score') \n",
    "plt.title('Homogeneity analysis For Optimal k')\n",
    "plt.show()"
   ]
  },
  {
   "cell_type": "markdown",
   "id": "900fc340",
   "metadata": {},
   "source": [
    "### Silhouette Analysis for optimal k"
   ]
  },
  {
   "cell_type": "code",
   "execution_count": null,
   "id": "1vvy5DTpET-8",
   "metadata": {
    "id": "1vvy5DTpET-8"
   },
   "outputs": [],
   "source": [
    "from sklearn.metrics import silhouette_samples, silhouette_score"
   ]
  },
  {
   "cell_type": "code",
   "execution_count": null,
   "id": "PeX_C3GKEYgX",
   "metadata": {
    "id": "PeX_C3GKEYgX"
   },
   "outputs": [],
   "source": [
    "range_n_clusters = [26,27,28,29,30]\n",
    "silhouette_avg = []\n",
    "for num_clusters in range_n_clusters:\n",
    " \n",
    " # initialise kmeans\n",
    " kmeans = KMeans(n_clusters=num_clusters)\n",
    " kmeans.fit(features)\n",
    " cluster_labels = kmeans.labels_\n",
    " \n",
    " # silhouette score\n",
    " silhouette_avg.append(silhouette_score(features, cluster_labels))"
   ]
  },
  {
   "cell_type": "code",
   "execution_count": null,
   "id": "z1rQ-1LYEbP9",
   "metadata": {
    "id": "z1rQ-1LYEbP9"
   },
   "outputs": [],
   "source": [
    "plt.plot(range_n_clusters,silhouette_avg,'bx-')\n",
    "plt.xlabel('Values of K') \n",
    "plt.ylabel('Silhouette score') \n",
    "plt.title('Silhouette analysis For Optimal k')\n",
    "plt.show()"
   ]
  },
  {
   "cell_type": "markdown",
   "id": "b3176221",
   "metadata": {
    "id": "b3176221"
   },
   "source": [
    "# Fuzzy C-means Clustering"
   ]
  },
  {
   "cell_type": "code",
   "execution_count": null,
   "id": "699ba5b5",
   "metadata": {
    "id": "699ba5b5"
   },
   "outputs": [],
   "source": [
    "pip install fuzzy-c-means"
   ]
  },
  {
   "cell_type": "markdown",
   "id": "0ff4fede",
   "metadata": {},
   "source": [
    "### Cluster Assignment"
   ]
  },
  {
   "cell_type": "code",
   "execution_count": null,
   "id": "cc348075",
   "metadata": {
    "id": "cc348075"
   },
   "outputs": [],
   "source": [
    "from fcmeans import FCM\n",
    "my_model = FCM(n_clusters=3)\n",
    "my_model.fit(features)"
   ]
  },
  {
   "cell_type": "markdown",
   "id": "2c01fdc8",
   "metadata": {},
   "source": [
    "### 3-D Scatter Plot\n",
    "\n",
    "Plotting the 3-D graph between 2 feature vectors and labels"
   ]
  },
  {
   "cell_type": "code",
   "execution_count": null,
   "id": "ENHGlFjTE-Sh",
   "metadata": {
    "id": "ENHGlFjTE-Sh"
   },
   "outputs": [],
   "source": [
    "fig = plt.figure(figsize = (10, 7))\n",
    "ax = plt.axes(projection =\"3d\")\n",
    "ax.scatter3D(features[:,0],features[:,1],kmeans.labels_,c=kmeans.labels_,s = 0.1)\n",
    "plt.title(\"simple 3D scatter plot\")\n",
    "plt.show()\n",
    "print(kmeans.labels_[1])\n",
    "print(kmeans.labels_[17700])"
   ]
  },
  {
   "cell_type": "markdown",
   "id": "e31bd43d",
   "metadata": {},
   "source": [
    "### Computation of Homogeneity Score"
   ]
  },
  {
   "cell_type": "code",
   "execution_count": null,
   "id": "FxXose7FFEu4",
   "metadata": {
    "id": "FxXose7FFEu4"
   },
   "outputs": [],
   "source": [
    "range_n_clusters = [x for x in range(30,35)]\n",
    "homogeneity_avg = []\n",
    "for num_clusters in range_n_clusters:\n",
    " \n",
    " # initialise FCM\n",
    " my_model = FCM(n_clusters=num_clusters)\n",
    " my_model.fit(features)\n",
    " cluster_labels = my_model.predict(features)\n",
    " \n",
    " # homogeneity score\n",
    " homogeneity_avg.append(homogeneity_score(actual_lab, cluster_labels))"
   ]
  },
  {
   "cell_type": "code",
   "execution_count": null,
   "id": "eJkvF3BAFMZB",
   "metadata": {
    "id": "eJkvF3BAFMZB"
   },
   "outputs": [],
   "source": [
    "import matplotlib.pyplot as plt\n",
    "plt.plot(range_n_clusters,homogeneity_avg,'bx-')\n",
    "plt.xlabel('Values of K') \n",
    "plt.ylabel('Homogeneity score') \n",
    "plt.title('Homogeneity analysis For Optimal k')\n",
    "plt.show()"
   ]
  },
  {
   "cell_type": "markdown",
   "id": "729d6ded",
   "metadata": {},
   "source": [
    "### Silhouette Analysis\n",
    "\n"
   ]
  },
  {
   "cell_type": "code",
   "execution_count": null,
   "id": "Sk-HPHo6FSRJ",
   "metadata": {
    "id": "Sk-HPHo6FSRJ"
   },
   "outputs": [],
   "source": [
    "range_n_clusters = [26,27,28,29,30]\n",
    "silhouette_avg = []\n",
    "for num_clusters in range_n_clusters:\n",
    " \n",
    " # initialise kmeans\n",
    " my_model = FCM(n_clusters=num_clusters)\n",
    " my_model.fit(features)\n",
    " cluster_labels = my_model.predict(features)\n",
    " \n",
    " # silhouette score\n",
    " silhouette_avg.append(silhouette_score(features, cluster_labels))"
   ]
  },
  {
   "cell_type": "code",
   "execution_count": null,
   "id": "fXUUdL5hFXsj",
   "metadata": {
    "id": "fXUUdL5hFXsj"
   },
   "outputs": [],
   "source": [
    "plt.plot(range_n_clusters,silhouette_avg,'bx-')\n",
    "plt.xlabel('Values of K') \n",
    "plt.ylabel('Silhouette score') \n",
    "plt.title('Silhouette analysis For Optimal k')\n",
    "plt.show()"
   ]
  },
  {
   "cell_type": "markdown",
   "id": "9f7cfc6a",
   "metadata": {
    "id": "9f7cfc6a"
   },
   "source": [
    "# GMM"
   ]
  },
  {
   "cell_type": "markdown",
   "id": "9faff830",
   "metadata": {},
   "source": [
    "### Cluster Assignment"
   ]
  },
  {
   "cell_type": "code",
   "execution_count": null,
   "id": "fda089ab",
   "metadata": {
    "id": "fda089ab"
   },
   "outputs": [],
   "source": [
    "import numpy as np\n",
    "from sklearn.mixture import GaussianMixture\n",
    "X = np.array(features)\n",
    "gm = GaussianMixture(n_components=27, random_state=0).fit(X)\n",
    "cluster_labels = gm.predict(features)"
   ]
  },
  {
   "cell_type": "markdown",
   "id": "45811c81",
   "metadata": {},
   "source": [
    "### Computation of Homogeneity Score"
   ]
  },
  {
   "cell_type": "code",
   "execution_count": null,
   "id": "pKXyauk8Fj_A",
   "metadata": {
    "id": "pKXyauk8Fj_A"
   },
   "outputs": [],
   "source": [
    "range_n_clusters = [x for x in range(30,35)]\n",
    "homogeneity_avg = []\n",
    "for num_clusters in range_n_clusters:\n",
    " \n",
    " # initialise GMM\n",
    " gm = GaussianMixture(n_components=num_clusters)\n",
    " gm.fit(features)\n",
    " cluster_labels = gm.predict(features)\n",
    " \n",
    " # silhouette score\n",
    " homogeneity_avg.append(homogeneity_score(actual_lab, cluster_labels))"
   ]
  },
  {
   "cell_type": "code",
   "execution_count": null,
   "id": "ArMYPK6lGWzC",
   "metadata": {
    "id": "ArMYPK6lGWzC"
   },
   "outputs": [],
   "source": [
    "range_n_clusters = [x for x in range(30,35)]\n",
    "homogeneity_avg = []\n",
    "for num_clusters in range_n_clusters:\n",
    " \n",
    " # initialise kmeans\n",
    " gm = GaussianMixture(n_components=num_clusters)\n",
    " gm.fit(features)\n",
    " cluster_labels = gm.predict(features)\n",
    " \n",
    " # homogeneity score\n",
    " homogeneity_avg.append(homogeneity_score(actual_lab, cluster_labels))"
   ]
  },
  {
   "cell_type": "code",
   "execution_count": null,
   "id": "N2Ae9gTdGbwK",
   "metadata": {
    "id": "N2Ae9gTdGbwK"
   },
   "outputs": [],
   "source": [
    "import matplotlib.pyplot as plt\n",
    "plt.plot(range_n_clusters,homogeneity_avg,'bx-')\n",
    "plt.xlabel('Values of K') \n",
    "plt.ylabel('Homogeneity score') \n",
    "plt.title('Homogeneity analysis For Optimal k')\n",
    "plt.show()"
   ]
  },
  {
   "cell_type": "markdown",
   "id": "5c78c989",
   "metadata": {},
   "source": [
    "### Silhouette Analysis"
   ]
  },
  {
   "cell_type": "code",
   "execution_count": null,
   "id": "gtTD1eXVGjZO",
   "metadata": {
    "id": "gtTD1eXVGjZO"
   },
   "outputs": [],
   "source": [
    "range_n_clusters = [26,27,28,29,30]\n",
    "silhouette_avg = []\n",
    "for num_clusters in range_n_clusters:\n",
    " \n",
    " # initialise kmeans\n",
    " my_model = FCM(n_clusters=num_clusters)\n",
    " my_model.fit(features)\n",
    " cluster_labels = my_model.predict(features)\n",
    " \n",
    " # silhouette score\n",
    " silhouette_avg.append(silhouette_score(features, cluster_labels))"
   ]
  },
  {
   "cell_type": "code",
   "execution_count": null,
   "id": "mwTZzGVXGkom",
   "metadata": {
    "id": "mwTZzGVXGkom"
   },
   "outputs": [],
   "source": [
    "plt.plot(range_n_clusters,silhouette_avg,'bx-')\n",
    "plt.xlabel('Values of K') \n",
    "plt.ylabel('Silhouette score') \n",
    "plt.title('Silhouette analysis For Optimal k')\n",
    "plt.show()"
   ]
  }
 ],
 "metadata": {
  "colab": {
   "provenance": []
  },
  "kernelspec": {
   "display_name": "Python 3 (ipykernel)",
   "language": "python",
   "name": "python3"
  },
  "language_info": {
   "codemirror_mode": {
    "name": "ipython",
    "version": 3
   },
   "file_extension": ".py",
   "mimetype": "text/x-python",
   "name": "python",
   "nbconvert_exporter": "python",
   "pygments_lexer": "ipython3",
   "version": "3.9.12"
  }
 },
 "nbformat": 4,
 "nbformat_minor": 5
}
